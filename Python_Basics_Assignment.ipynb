{
  "nbformat": 4,
  "nbformat_minor": 0,
  "metadata": {
    "colab": {
      "provenance": []
    },
    "kernelspec": {
      "name": "python3",
      "display_name": "Python 3"
    },
    "language_info": {
      "name": "python"
    }
  },
  "cells": [
    {
      "cell_type": "markdown",
      "source": [
        "**Python Basic Question**"
      ],
      "metadata": {
        "id": "YGV0q8BOnPG6"
      }
    },
    {
      "cell_type": "markdown",
      "source": [
        "Q1. What is Python, and why is it popular?\n",
        "\n",
        "Ans. A programming language is like a set of special rules and symbols that you use to give instruction to a computer. Python widely used in industry and also alot of libraries avaliable, easy to learn and versatility or a large active community as well.\n"
      ],
      "metadata": {
        "id": "FlCDb0egoDOv"
      }
    },
    {
      "cell_type": "markdown",
      "source": [
        "Q2. What is an interpreter in Python?\n",
        "\n",
        "Ans. Interpreter in python is a program that executes python code line by line. Instead of compliling the entrie code before running like C or java."
      ],
      "metadata": {
        "id": "W8kQjwy2p85u"
      }
    },
    {
      "cell_type": "markdown",
      "source": [
        "Q3. What are pre-defined keywords in Python?\n",
        "\n",
        "Ans. Predefined keywords in Python are reserved words that have special meanings and cannot be used as variable names, function names, or any other identifiers. These keywords are an essential part of Python's syntax."
      ],
      "metadata": {
        "id": "SIv_KXF4qpnG"
      }
    },
    {
      "cell_type": "markdown",
      "source": [
        "Q4. Can keywords be used as variable names?\n",
        "\n",
        "Ans. No, it connot be used as variable names."
      ],
      "metadata": {
        "id": "E-COvdxmxyQZ"
      }
    },
    {
      "cell_type": "markdown",
      "source": [
        "Q5. What is mutability in Python?\n",
        "\n",
        "Ans. objects/container whose state or value can be changed after they are created are called as mutable objects or container.\n"
      ],
      "metadata": {
        "id": "B6gXijMJx_fC"
      }
    },
    {
      "cell_type": "markdown",
      "source": [
        "Q6.  Why are lists mutable, but tuples are immutable?\n",
        "\n",
        "Ans. List allows modification after creation. You can add, remove or change elements in a list without changing it's memory reference. But tuples don't allow modification after creation. Any operation that attempts to a change a tuple show you a error."
      ],
      "metadata": {
        "id": "MHjOa_9uyiDH"
      }
    },
    {
      "cell_type": "markdown",
      "source": [
        "Q7. What is the difference between “==” and “is” operators in Python?\n",
        "\n",
        "Ans. \"==\" and is both are comparison operation in python. \"==\" equality operator check if the two values are equal but dosn't check the memory address. But in \"is\" case it's check two variables references the same object in memory. Show you True only if both variable point to the same memory location."
      ],
      "metadata": {
        "id": "IJf3jLLCzapp"
      }
    },
    {
      "cell_type": "markdown",
      "source": [
        "Q8. What are logical operators in Python?\n",
        "\n",
        "Ans. Logical operators in python used to combine the conditional statement and logically decide something."
      ],
      "metadata": {
        "id": "ccxiDG0p0qMd"
      }
    },
    {
      "cell_type": "markdown",
      "source": [
        "Q9. What is type casting in Python?\n",
        "\n",
        "Ans.The Process of changing the data type of a value/object.\n"
      ],
      "metadata": {
        "id": "v0Hk6hh91Lq_"
      }
    },
    {
      "cell_type": "markdown",
      "source": [
        "Q10. What is the difference between implicit and explicit type casting?\n",
        "\n",
        "Ans. An implicit type conversion is automatically performed by the compiler when differing data types are intermixed in an expression. An explicit type conversion is user-defined conversion that forces an expression to be of specific type."
      ],
      "metadata": {
        "id": "YsIsfU2M1ltk"
      }
    },
    {
      "cell_type": "markdown",
      "source": [
        "Q11. What is the purpose of conditional statements in Python?\n",
        "\n",
        "Ans. Conditional statements in Python are used to execute certain blocks of code based on specific conditions. These statements help control the flow of a program, making it behave differently in different situations. Help you to code decisions based on some precondition."
      ],
      "metadata": {
        "id": "qAdajJTA3bvx"
      }
    },
    {
      "cell_type": "markdown",
      "source": [
        "Q12.  How does the elif statement work?\n",
        "\n",
        "Ans. It allows you to check multiple conditions in sequence. If the initial if condition is False, Python will check the conditions defined in elif statements one by one."
      ],
      "metadata": {
        "id": "Dm-FcR2b4f4Z"
      }
    },
    {
      "cell_type": "markdown",
      "source": [
        "Q13. What is the difference between for and while loops?\n",
        "\n",
        "Ans. For loop best used when iterating over a known sequence (like a list or range).The loop iterates over the elements in a sequence, so it will automatically stop when the sequence is exhausted.\n",
        "While loop best used when the number of iterations is not known in advance and depends on a condition. The loop continues until the condition becomes false."
      ],
      "metadata": {
        "id": "-r_OIegZ5Haw"
      }
    },
    {
      "cell_type": "markdown",
      "source": [
        "Q14. Describe a scenario where a while loop is more suitable than a for loop?\n",
        "\n",
        "Ans. Use for loops when you know in advance the number of iterations, or when iterating over a collection (e.g., list, string, or range).\n",
        "Use while loops when you need to repeat a block of code until a specific condition is met, and you don't know beforehand how many iterations it will take."
      ],
      "metadata": {
        "id": "MrTlljBJ6yBO"
      }
    },
    {
      "cell_type": "markdown",
      "source": [
        "**Practical Questions**\n"
      ],
      "metadata": {
        "id": "eUWCMttN7XVx"
      }
    },
    {
      "cell_type": "code",
      "source": [
        "##Q1. Write a Python program to print \"Hello, World!\n",
        "print (\"Hello, World!\")"
      ],
      "metadata": {
        "colab": {
          "base_uri": "https://localhost:8080/"
        },
        "id": "DuL7pT8u7kdM",
        "outputId": "53e6fd92-70f5-402e-c541-6163e855d57c"
      },
      "execution_count": null,
      "outputs": [
        {
          "output_type": "stream",
          "name": "stdout",
          "text": [
            "Hello, World!\n"
          ]
        }
      ]
    },
    {
      "cell_type": "code",
      "source": [
        "##Q2. 0 Write a Python program that displays your name and age\n",
        "Name = \"Babul Kumar\"\n",
        "Age = 21\n",
        "print (\"Name :\", Name,\"and\", \"Age :\", Age)\n"
      ],
      "metadata": {
        "colab": {
          "base_uri": "https://localhost:8080/"
        },
        "id": "ptXlg0Z97uxx",
        "outputId": "96f9865a-5112-49dc-ddea-0274eec917f0"
      },
      "execution_count": null,
      "outputs": [
        {
          "output_type": "stream",
          "name": "stdout",
          "text": [
            "Name : Babul Kumar and Age : 21\n"
          ]
        }
      ]
    },
    {
      "cell_type": "code",
      "source": [
        "##Q3. Write code to print all the pre-defined keywords in Python using the keyword library.\n",
        "help('keywords')"
      ],
      "metadata": {
        "colab": {
          "base_uri": "https://localhost:8080/"
        },
        "id": "M6v8ZW_s8eQ6",
        "outputId": "153c809b-1035-4240-9875-8ae0a3d9dc10"
      },
      "execution_count": null,
      "outputs": [
        {
          "output_type": "stream",
          "name": "stdout",
          "text": [
            "\n",
            "Here is a list of the Python keywords.  Enter any keyword to get more help.\n",
            "\n",
            "False               class               from                or\n",
            "None                continue            global              pass\n",
            "True                def                 if                  raise\n",
            "and                 del                 import              return\n",
            "as                  elif                in                  try\n",
            "assert              else                is                  while\n",
            "async               except              lambda              with\n",
            "await               finally             nonlocal            yield\n",
            "break               for                 not                 \n",
            "\n"
          ]
        }
      ]
    },
    {
      "cell_type": "code",
      "source": [
        "##Q4. Write a program that checks if a given word is a Python keyword\n",
        "import keyword\n",
        "print (keyword.iskeyword(\"break\")) ##Here is in this code after keyword.iskeyword you put any keyword if its really a keyword then it comes true if not then comes false.\n",
        "\n",
        "## For more know about a keyword you can use help(\"keyword name\")\n",
        "help(\"break\")"
      ],
      "metadata": {
        "colab": {
          "base_uri": "https://localhost:8080/"
        },
        "id": "GuXa7hTC9Kc9",
        "outputId": "91b6931d-2328-4976-caf6-a70e21c9634d"
      },
      "execution_count": null,
      "outputs": [
        {
          "output_type": "stream",
          "name": "stdout",
          "text": [
            "True\n",
            "The \"break\" statement\n",
            "*********************\n",
            "\n",
            "   break_stmt ::= \"break\"\n",
            "\n",
            "\"break\" may only occur syntactically nested in a \"for\" or \"while\"\n",
            "loop, but not nested in a function or class definition within that\n",
            "loop.\n",
            "\n",
            "It terminates the nearest enclosing loop, skipping the optional \"else\"\n",
            "clause if the loop has one.\n",
            "\n",
            "If a \"for\" loop is terminated by \"break\", the loop control target\n",
            "keeps its current value.\n",
            "\n",
            "When \"break\" passes control out of a \"try\" statement with a \"finally\"\n",
            "clause, that \"finally\" clause is executed before really leaving the\n",
            "loop.\n",
            "\n",
            "Related help topics: while, for\n",
            "\n"
          ]
        }
      ]
    },
    {
      "cell_type": "code",
      "source": [
        "##Q5. Create a list and tuple in Python, and demonstrate how attempting to change an element works differently for each.\n",
        "my_list = [1, 2, 3, 4, 5]\n",
        "my_tuple = (1, 2, 3, 4, 5)\n",
        "\n",
        "print(\"My List:\", my_list)\n",
        "my_list[2] = 15\n",
        "print(\"New List:\", my_list)\n",
        "\n",
        "print(\"\\nMy Tuple:\", my_tuple)\n",
        "try:\n",
        "  my_tuple[3] = 15\n",
        "except TypeError as b:\n",
        "  print(\"Error:\", b)"
      ],
      "metadata": {
        "colab": {
          "base_uri": "https://localhost:8080/"
        },
        "id": "ns6aZpzw-fCl",
        "outputId": "c1bc369d-7317-42e9-c10a-5e7df6a63d52"
      },
      "execution_count": null,
      "outputs": [
        {
          "output_type": "stream",
          "name": "stdout",
          "text": [
            "My List: [1, 2, 3, 4, 5]\n",
            "New List: [1, 2, 15, 4, 5]\n",
            "\n",
            "My Tuple: (1, 2, 3, 4, 5)\n",
            "Error: 'tuple' object does not support item assignment\n"
          ]
        }
      ]
    },
    {
      "cell_type": "code",
      "source": [
        "##Q6. Write a function to demonstrate the behavior of mutable and immutable arguments.\n",
        "##Q7. Write a function to demonstrate the behavior of mutable and immutable arguments.\n",
        "def operation(a,b): #creating the function\n",
        "  a = a + \"Night\"\n",
        "  b.append(11)\n",
        "\n",
        "\n",
        "x = \"Good\"\n",
        "y = [1,2,3,4,5,6,7,8,9,10]\n",
        "\n",
        "operation(x,y) #calling the function\n",
        "\n",
        "\n",
        "print((\"Immutable...\",x)) #x is immutable and will not change\n",
        "print((\"Mutable...\",y)) #y is mutable and will change"
      ],
      "metadata": {
        "id": "dwjDqiutA8mR",
        "colab": {
          "base_uri": "https://localhost:8080/"
        },
        "outputId": "c26f7b37-f592-4bc7-d400-365745041c5c"
      },
      "execution_count": 2,
      "outputs": [
        {
          "output_type": "stream",
          "name": "stdout",
          "text": [
            "('Immutable...', 'Good')\n",
            "('Mutable...', [1, 2, 3, 4, 5, 6, 7, 8, 9, 10, 11])\n"
          ]
        }
      ]
    },
    {
      "cell_type": "code",
      "source": [
        "##Q8. Write a program to demonstrate the use of logical operators.\n",
        "x = int(input(\"Enter a 1st number\"))\n",
        "y = int(input(\"Enter a 2nd number\"))\n",
        "if x > 99 and y < 99:\n",
        "  print(\"And Logical Operator\")\n",
        "elif x or y:\n",
        "  print(\"Or Logical Operator\")\n",
        "elif not x > y:\n",
        "  print(\"Not Logical Operator\")\n",
        "else:\n",
        "  print(\"Error\")\n",
        "## For use of \"or\",\"and\" and \"not\" operator you can give value to x and y as per requirment"
      ],
      "metadata": {
        "colab": {
          "base_uri": "https://localhost:8080/"
        },
        "id": "EmQy5xbfBbLF",
        "outputId": "b165b081-0ee2-4664-c7a2-df35238d062a"
      },
      "execution_count": null,
      "outputs": [
        {
          "output_type": "stream",
          "name": "stdout",
          "text": [
            "Enter a 1st number5\n",
            "Enter a 2nd number2\n",
            "Or Logical Operator\n"
          ]
        }
      ]
    },
    {
      "cell_type": "code",
      "source": [
        "##Q9. Write a Python program to convert user input from string to integer, float, and boolean types.\n",
        "Input = \"5\"\n",
        "int(Input)\n",
        "float(Input)\n",
        "bool(Input)\n",
        "## Input value is in string then  it coneverted to integer then float and then boolean."
      ],
      "metadata": {
        "colab": {
          "base_uri": "https://localhost:8080/"
        },
        "id": "51-xdJzqDq_u",
        "outputId": "c393bc97-3509-4ada-8706-4283569c80c1"
      },
      "execution_count": null,
      "outputs": [
        {
          "output_type": "execute_result",
          "data": {
            "text/plain": [
              "True"
            ]
          },
          "metadata": {},
          "execution_count": 59
        }
      ]
    },
    {
      "cell_type": "code",
      "source": [
        "##Q10. Write code to demonstrate type casting with list elements.\n",
        "String_number = [\"1\", \"2\", \"3\", \"4\"]\n",
        "Integers_number = [int(num) for num in String_number]\n",
        "print(\"Integers Number:\", Integers_number)\n",
        "Float_number = [float(num) for num in String_number]\n",
        "print(\"\\nFloat Number:\", Float_number)\n",
        "Boolean_number = [bool(num) for num in String_number]\n",
        "print(\"\\nBoolean Number:\", Boolean_number)"
      ],
      "metadata": {
        "colab": {
          "base_uri": "https://localhost:8080/"
        },
        "id": "YG3OyDuJFUAp",
        "outputId": "659de0be-b307-45b8-f5ef-dc65e707aea1"
      },
      "execution_count": null,
      "outputs": [
        {
          "output_type": "stream",
          "name": "stdout",
          "text": [
            "Integers Number: [1, 2, 3, 4]\n",
            "\n",
            "Float Number: [1.0, 2.0, 3.0, 4.0]\n",
            "\n",
            "Boolean Number: [True, True, True, True]\n"
          ]
        }
      ]
    },
    {
      "cell_type": "code",
      "source": [
        "##Q11. Write a program that checks if a number is positive, negative, or zero.\n",
        "num = int(input(\"Enter a number\"))\n",
        "if num > 0:\n",
        "    print (\"Number is positive\")\n",
        "elif num < 0:\n",
        "    print (\"Number is negative\")\n",
        "else:\n",
        "    print (\"Number is zero\")"
      ],
      "metadata": {
        "colab": {
          "base_uri": "https://localhost:8080/"
        },
        "id": "mNqTelRA-R1s",
        "outputId": "dc567085-057e-4591-df82-30b5bf0c2f3d"
      },
      "execution_count": null,
      "outputs": [
        {
          "output_type": "stream",
          "name": "stdout",
          "text": [
            "Enter a number5\n",
            "Number is positive\n"
          ]
        }
      ]
    },
    {
      "cell_type": "code",
      "source": [
        "##Q12.  Write a for loop to print numbers from 1 to 10.\n",
        "for number in range(1,11):\n",
        "  print (number)"
      ],
      "metadata": {
        "colab": {
          "base_uri": "https://localhost:8080/"
        },
        "id": "3yZX-Z8XU8qk",
        "outputId": "5c99aee2-fc28-41cc-8d24-7b279200b98c"
      },
      "execution_count": null,
      "outputs": [
        {
          "output_type": "stream",
          "name": "stdout",
          "text": [
            "1\n",
            "2\n",
            "3\n",
            "4\n",
            "5\n",
            "6\n",
            "7\n",
            "8\n",
            "9\n",
            "10\n"
          ]
        }
      ]
    },
    {
      "cell_type": "code",
      "source": [
        "##Q13.  Write a Python program to find the sum of all even numbers between 1 and 50.\n",
        "sum_of_even = 0\n",
        "for number in range(1,50):\n",
        "  if number % 2 == 0:\n",
        "    sum_of_even += number\n",
        "print (\"Sum of even number: \", sum_of_even)\n"
      ],
      "metadata": {
        "colab": {
          "base_uri": "https://localhost:8080/"
        },
        "id": "2MwgUaoZVQpV",
        "outputId": "5f9ce810-191d-4b34-d10e-0d069eb9d328"
      },
      "execution_count": null,
      "outputs": [
        {
          "output_type": "stream",
          "name": "stdout",
          "text": [
            "Sum of even number:  600\n"
          ]
        }
      ]
    },
    {
      "cell_type": "code",
      "source": [
        "##Q14. Write a program to reverse a string using a while loop.\n",
        "x= \"Babul\"\n",
        "for i in x[::-1]:\n",
        "  print (i)"
      ],
      "metadata": {
        "colab": {
          "base_uri": "https://localhost:8080/"
        },
        "id": "dUoBLucxWWR7",
        "outputId": "7a5a0563-b595-4bdb-bd9e-8f14f85347ac"
      },
      "execution_count": null,
      "outputs": [
        {
          "output_type": "stream",
          "name": "stdout",
          "text": [
            "l\n",
            "u\n",
            "b\n",
            "a\n",
            "B\n"
          ]
        }
      ]
    },
    {
      "cell_type": "code",
      "source": [
        "##Q15. Write a Python program to calculate the factorial of a number provided by the user using a while loop\n",
        "num = int(input('enter the number'))\n",
        "\n",
        "fact = 1\n",
        "for i in range(1,num+1):\n",
        "  fact = fact*i\n",
        "\n",
        "print(fact)"
      ],
      "metadata": {
        "colab": {
          "base_uri": "https://localhost:8080/"
        },
        "id": "9uZt-vt6XxKj",
        "outputId": "2856f26d-2d0d-4474-acbf-994e255a90b6"
      },
      "execution_count": null,
      "outputs": [
        {
          "output_type": "stream",
          "name": "stdout",
          "text": [
            "enter the number5\n",
            "120\n"
          ]
        }
      ]
    }
  ]
}