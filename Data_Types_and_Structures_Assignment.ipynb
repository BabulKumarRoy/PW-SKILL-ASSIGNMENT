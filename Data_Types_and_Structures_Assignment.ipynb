{
  "nbformat": 4,
  "nbformat_minor": 0,
  "metadata": {
    "colab": {
      "provenance": []
    },
    "kernelspec": {
      "name": "python3",
      "display_name": "Python 3"
    },
    "language_info": {
      "name": "python"
    }
  },
  "cells": [
    {
      "cell_type": "markdown",
      "source": [
        "**Data Types and Structures Questions**"
      ],
      "metadata": {
        "id": "0iGwUb5xAHox"
      }
    },
    {
      "cell_type": "markdown",
      "source": [
        "Q1. What are data structures, and why are they important?\n",
        "\n",
        "Ans. Data Structures are a way of organizing data so that it can be accessed more efficiently depending upon the situation. Data Structures are fundamentals of any programming language around which a program is built. Python helps to learn the fundamental of these data structures in a simpler way as compared to other programming languages.\n"
      ],
      "metadata": {
        "id": "x3g1j1t_AiSa"
      }
    },
    {
      "cell_type": "markdown",
      "source": [
        "Q2.  Explain the difference between mutable and immutable data types with examples?\n",
        "\n",
        "Ans. 1. Mutable Data Types (Can be Changed)\n",
        "Mutable objects can be modified after creation. Changes occur in place, meaning the object’s memory address remains the same.\n",
        "Examples of Mutable Data Types:\n",
        "Lists\n",
        "Dictionaries\n",
        "Set\n",
        "2. Immutable Data Types (Cannot be Changed)\n",
        "Immutable objects cannot be modified after creation. Any change creates a new object instead of modifying the existing one.\n",
        "\n",
        "Examples of Immutable Data Types:\n",
        "Tuples\n",
        "Strings\n",
        "Integers\n",
        "Floats\n",
        "Booleans"
      ],
      "metadata": {
        "id": "NmjxJE4GBQ51"
      }
    },
    {
      "cell_type": "markdown",
      "source": [
        "Q3. What are the main differences between lists and tuples in Python?\n",
        "\n",
        "Ans. List : You can store anything in list. List can store heterogenous data\n",
        "            List is an ordered collection of elements that can be of any data type\n",
        "            List are mutable.\n",
        "List = []\n",
        "X = [1, 2, 3, 4]\n",
        "\n",
        "Tuples: Tuples are immutable\n",
        "\t    Tuples can store heterogenous data\n",
        "\t     Tuples = ()\n",
        "X = (1, 2, 3, 4)\n"
      ],
      "metadata": {
        "id": "fUJzLRE_B2Gk"
      }
    },
    {
      "cell_type": "markdown",
      "source": [
        "Q4.  Describe how dictionaries store data?\n",
        "\n",
        "Ans. Dictionary: Which store the data in the form of key value pair\n",
        "\t\tDictionary = {}\n"
      ],
      "metadata": {
        "id": "SivYohGdCdHb"
      }
    },
    {
      "cell_type": "markdown",
      "source": [
        "Q5. Why might you use a set instead of a list in Python?\n",
        "\n",
        "Ans. A set in Python has unique advantages over a list in certain use cases. Below are the key reasons why you might prefer a set over a list:\n",
        "\n",
        "1. Sets Automatically Remove Duplicates\n",
        "2. Faster Membership Checking (O(1) vs O(n))\n",
        "3. Sets Support Mathematical Operations (Union, Intersection, Difference)\n",
        "4. Sets Are Unordered & Do Not Allow Indexing"
      ],
      "metadata": {
        "id": "4c_YnbpBCnFI"
      }
    },
    {
      "cell_type": "markdown",
      "source": [
        "Q6.  What is a string in Python, and how is it different from a list?\n",
        "\n",
        "Ans. A string in Python is a sequence of characters enclosed in single (' '), double (\" \"), or triple (''' ''' / \"\"\" \"\"\") quotes. It is an immutable data type, meaning its contents cannot be changed after creation.\n",
        "1. Mutability: Strings are Immutable, Lists are Mutable\n",
        "2. Strings Contain Only Characters, Lists Can Contain Multiple Data Types\n",
        "3. Slicing Works Similarly for Both\n"
      ],
      "metadata": {
        "id": "gMZ6q2eGDVSz"
      }
    },
    {
      "cell_type": "markdown",
      "source": [
        "Q7.  How do tuples ensure data integrity in Python?\n",
        "\n",
        "Ans. Tuples in Python ensure data integrity because they are immutable, meaning their contents cannot be changed once created. This prevents accidental modifications and ensures that the data remains consistent and reliable."
      ],
      "metadata": {
        "id": "4BKYm8tdD299"
      }
    },
    {
      "cell_type": "markdown",
      "source": [
        "Q8. What is a hash table, and how does it relate to dictionaries in Python?\n",
        "\n",
        "Ans. A hash table (also called a hash map) is a data structure that stores key-value pairs and provides fast lookups, insertions, and deletions by using a hashing function."
      ],
      "metadata": {
        "id": "M4NnfExtEFrS"
      }
    },
    {
      "cell_type": "markdown",
      "source": [
        "Q9. Can lists contain different data types in Python?\n",
        "\n",
        "Ans. Yes! In Python, lists are heterogeneous, meaning they can store different data types in a single list."
      ],
      "metadata": {
        "id": "hvNYKkQpEx5-"
      }
    },
    {
      "cell_type": "markdown",
      "source": [
        "Q10. Explain why strings are immutable in Python?\n",
        "\n",
        "Ans. In Python, strings are immutable, meaning once created, they cannot be modified.  It is Efficient memory management."
      ],
      "metadata": {
        "id": "c7jNQ5bQE71V"
      }
    },
    {
      "cell_type": "markdown",
      "source": [
        "Q11. What advantages do dictionaries offer over lists for certain tasks?\n",
        "\n",
        "Ans. Use dictionaries when quick lookups, key-value pairs, and uniqueness matter. Use lists when order, duplicates, and sequential access are important."
      ],
      "metadata": {
        "id": "qIzQlYHLFck8"
      }
    },
    {
      "cell_type": "markdown",
      "source": [
        "Q12. Describe a scenario where using a tuple would be preferable over a list?\n",
        "\n",
        "Ans. Use tuples when you need fixed, unchangeable, and efficient data storage. Use lists when data needs modification."
      ],
      "metadata": {
        "id": "iJoIU13qF-kX"
      }
    },
    {
      "cell_type": "markdown",
      "source": [
        "Q13. How do sets handle duplicate values in Python?\n",
        "\n",
        "Ans. Sets in Python are unordered collections of unique elements. They automatically remove duplicate values when created or modified."
      ],
      "metadata": {
        "id": "XK438DqQGYAB"
      }
    },
    {
      "cell_type": "markdown",
      "source": [
        "Q14. How does the “in” keyword work differently for lists and dictionaries?\n",
        "\n",
        "Ans. The \"in\" keyword is used to check membership in both lists and dictionaries, but it behaves differently for each.\n",
        "Lists: \"in\" checks if a value is present anywhere in the list (slower for large lists).\n",
        "Dictionaries: \"in\" checks only keys, making it much faster due to hashing.\n",
        "To check dictionary values, use .values()."
      ],
      "metadata": {
        "id": "nGPPK4-nGnDR"
      }
    },
    {
      "cell_type": "markdown",
      "source": [
        "Q15. Can you modify the elements of a tuple? Explain why or why not.\n",
        "\n",
        "Ans. No, tuples are immutable, meaning their elements cannot be changed, added, or removed after creation."
      ],
      "metadata": {
        "id": "eFlXcoevHG4_"
      }
    },
    {
      "cell_type": "markdown",
      "source": [
        "Q16. What is a nested dictionary, and give an example of its use case?\n",
        "\n",
        "Ans. A nested dictionary is a dictionary inside another dictionary. It allows hierarchical storage of data, where each key in the outer dictionary points to another dictionary as its value."
      ],
      "metadata": {
        "id": "X4Ok-DRuHWCT"
      }
    },
    {
      "cell_type": "markdown",
      "source": [
        "Q17. Describe the time complexity of accessing elements in a dictionary.\n",
        "\n",
        "Ans. In Python, dictionaries are implemented using hash tables, which provide average O(1) time complexity for lookups.\n"
      ],
      "metadata": {
        "id": "vkzfBMK_Hllm"
      }
    },
    {
      "cell_type": "markdown",
      "source": [
        "Q18. In what situations are lists preferred over dictionaries?\n",
        "\n",
        "Ans. Lists and dictionaries both store data in Python, but lists are preferred in certain situations due to their ordered structure and index-based access."
      ],
      "metadata": {
        "id": "oWggMT3zISAL"
      }
    },
    {
      "cell_type": "markdown",
      "source": [
        "Q19. Why are dictionaries considered unordered, and how does that affect data retrieval?\n",
        "\n",
        "Ans. Dictionaries in Python are considered unordered because the order of key-value pairs is not guaranteed to be preserved. This is due to how dictionaries are implemented using a hash table. When you add items to a dictionary, Python computes the hash value of the key and stores the pair in an arbitrary location in memory.\n",
        "\n",
        "Impact on Data Retrieval: a) Data retrieval by key: The order of the items does not affect the efficiency of accessing elements by key. Dictionary lookups are O(1) on average, meaning you can retrieve values quickly using keys, regardless of their order in the dictionary. b) Iteration: If you iterate over the dictionary, the order of the items may not be the same as the order they were inserted. This can be significant when the order is important."
      ],
      "metadata": {
        "id": "aKXHODiBIw1i"
      }
    },
    {
      "cell_type": "markdown",
      "source": [
        "Q20. Explain the difference between a list and a dictionary in terms of data retrieval.\n",
        "\n",
        "Ans. List: Have a linear-time complexity (\\(O(n)\\)) for searching, which can be slow for large datasets.  Elements are accessed using indices, which are integers starting from 0. Good for ordered collections, like sequences of user actions.\n",
        "\n",
        "Dictionaries: Have an average-case constant time complexity (\\(O(1)\\)) for searching, making them faster for lookups. Elements are accessed using keys, which can be of any data type. Good for quick lookups, like mapping usernames to user data."
      ],
      "metadata": {
        "id": "NpJBSY5QJjFY"
      }
    },
    {
      "cell_type": "markdown",
      "source": [
        "**PRACTICAL QUESTIONS**"
      ],
      "metadata": {
        "id": "jD-xOMTEKV6P"
      }
    },
    {
      "cell_type": "code",
      "source": [
        "##Q1. Write a code to create a string with your name and print it.\n",
        "my_name = \"Babul Kumar Roy\"\n",
        "print(my_name)"
      ],
      "metadata": {
        "colab": {
          "base_uri": "https://localhost:8080/"
        },
        "id": "DSBqJC58Kal3",
        "outputId": "271a52b2-1b27-438a-ac80-ad77ed262504"
      },
      "execution_count": 4,
      "outputs": [
        {
          "output_type": "stream",
          "name": "stdout",
          "text": [
            "Babul Kumar Roy\n"
          ]
        }
      ]
    },
    {
      "cell_type": "code",
      "source": [
        "##Q2. Write a code to find the length of the string \"Hello World\".\n",
        "string1 = \"Hello World\"\n",
        "len(string1)"
      ],
      "metadata": {
        "colab": {
          "base_uri": "https://localhost:8080/"
        },
        "id": "DR76vDaTLHKI",
        "outputId": "2ad985e4-2e2c-4b72-8fb3-b830bfe1f40d"
      },
      "execution_count": 6,
      "outputs": [
        {
          "output_type": "execute_result",
          "data": {
            "text/plain": [
              "11"
            ]
          },
          "metadata": {},
          "execution_count": 6
        }
      ]
    },
    {
      "cell_type": "code",
      "source": [
        "##Q3. Write a code to slice the first 3 characters from the string \"Python Programming\".\n",
        "text1 = \"Python Programming\"\n",
        "slice_text = text1[: 3]\n",
        "print(slice_text)"
      ],
      "metadata": {
        "colab": {
          "base_uri": "https://localhost:8080/"
        },
        "id": "ku_7PEN8K-LW",
        "outputId": "31b5ee58-1631-4b80-b2fe-e84c7fe59883"
      },
      "execution_count": 12,
      "outputs": [
        {
          "output_type": "stream",
          "name": "stdout",
          "text": [
            "Pyt\n"
          ]
        }
      ]
    },
    {
      "cell_type": "code",
      "source": [
        "##Q4. Write a code to convert the string \"hello\" to uppercase.\n",
        "string1 = \"hello\"\n",
        "string1.upper()"
      ],
      "metadata": {
        "colab": {
          "base_uri": "https://localhost:8080/",
          "height": 36
        },
        "id": "XWFNYHU8MLhW",
        "outputId": "3539e1ed-95d3-4bdd-fe02-7eeb52432461"
      },
      "execution_count": 13,
      "outputs": [
        {
          "output_type": "execute_result",
          "data": {
            "text/plain": [
              "'HELLO'"
            ],
            "application/vnd.google.colaboratory.intrinsic+json": {
              "type": "string"
            }
          },
          "metadata": {},
          "execution_count": 13
        }
      ]
    },
    {
      "cell_type": "code",
      "source": [
        "##Q5. P Write a code to replace the word \"apple\" with \"orange\" in the string \"I like apple\".\n",
        "string1 = \"I like apple\"\n",
        "string1.replace(\"apple\", \"orange\")"
      ],
      "metadata": {
        "colab": {
          "base_uri": "https://localhost:8080/",
          "height": 36
        },
        "id": "UnS7cl5uMaPd",
        "outputId": "7c8ea101-3f15-44e7-ccb5-616915e3d623"
      },
      "execution_count": 15,
      "outputs": [
        {
          "output_type": "execute_result",
          "data": {
            "text/plain": [
              "'I like orange'"
            ],
            "application/vnd.google.colaboratory.intrinsic+json": {
              "type": "string"
            }
          },
          "metadata": {},
          "execution_count": 15
        }
      ]
    },
    {
      "cell_type": "code",
      "source": [
        "##Q6. Write a code to create a list with numbers 1 to 5 and print it.\n",
        "my_list = list(range(1,6))\n",
        "print(my_list)"
      ],
      "metadata": {
        "colab": {
          "base_uri": "https://localhost:8080/"
        },
        "id": "00tRd-fVMvhq",
        "outputId": "e4effbea-2619-4ec9-f868-0372d180c497"
      },
      "execution_count": 16,
      "outputs": [
        {
          "output_type": "stream",
          "name": "stdout",
          "text": [
            "[1, 2, 3, 4, 5]\n"
          ]
        }
      ]
    },
    {
      "cell_type": "code",
      "source": [
        "##Q7. Write a code to append the number 10 to the list [1, 2, 3, 4].\n",
        "list1 = [1, 2, 3, 4]\n",
        "list1.append(10)\n",
        "print(list1)\n"
      ],
      "metadata": {
        "colab": {
          "base_uri": "https://localhost:8080/"
        },
        "id": "_cFZxl4FM-eA",
        "outputId": "af8bb508-314e-4523-d46c-bae70751d0e9"
      },
      "execution_count": 18,
      "outputs": [
        {
          "output_type": "stream",
          "name": "stdout",
          "text": [
            "[1, 2, 3, 4, 10]\n"
          ]
        }
      ]
    },
    {
      "cell_type": "code",
      "source": [
        "##Q8. Write a code to remove the number 3 from the list [1, 2, 3, 4, 5].\n",
        "list1 = [1, 2, 3, 4, 5]\n",
        "list1.pop(2)\n",
        "print(list1)"
      ],
      "metadata": {
        "colab": {
          "base_uri": "https://localhost:8080/"
        },
        "id": "zFo4drFuNQ7i",
        "outputId": "fc6f9ab5-0074-4e4a-df44-908d51a88603"
      },
      "execution_count": 19,
      "outputs": [
        {
          "output_type": "stream",
          "name": "stdout",
          "text": [
            "[1, 2, 4, 5]\n"
          ]
        }
      ]
    },
    {
      "cell_type": "code",
      "source": [
        "##Q9. P Write a code to access the second element in the list ['a', 'b', 'c', 'd'].\n",
        "list1 = ['a', 'b', 'c', 'd']\n",
        "list1[1]"
      ],
      "metadata": {
        "colab": {
          "base_uri": "https://localhost:8080/",
          "height": 36
        },
        "id": "JYoAuA_ZNhX3",
        "outputId": "67677cc5-8281-499c-db83-87f363f96bef"
      },
      "execution_count": 20,
      "outputs": [
        {
          "output_type": "execute_result",
          "data": {
            "text/plain": [
              "'b'"
            ],
            "application/vnd.google.colaboratory.intrinsic+json": {
              "type": "string"
            }
          },
          "metadata": {},
          "execution_count": 20
        }
      ]
    },
    {
      "cell_type": "code",
      "source": [
        "##Q10.  Write a code to reverse the list [10, 20, 30, 40, 50].\n",
        "list1 = [10, 20, 30, 40, 50]\n",
        "list1.reverse()\n",
        "print(list1)"
      ],
      "metadata": {
        "colab": {
          "base_uri": "https://localhost:8080/"
        },
        "id": "d8FDcpZgNzHj",
        "outputId": "82cbec25-f88f-4442-ede3-ad287ffc6dd4"
      },
      "execution_count": 23,
      "outputs": [
        {
          "output_type": "stream",
          "name": "stdout",
          "text": [
            "[50, 40, 30, 20, 10]\n"
          ]
        }
      ]
    },
    {
      "cell_type": "code",
      "source": [
        "##Q11.  Write a code to create a tuple with the elements 100, 200, 300 and print it.\n",
        "a = 100, 200, 300\n",
        "tuple1 = tuple(a)\n",
        "print(tuple1)"
      ],
      "metadata": {
        "colab": {
          "base_uri": "https://localhost:8080/"
        },
        "id": "RiU4-I_uOO_u",
        "outputId": "8cdd334e-51da-43d0-acb3-d29adff2e62c"
      },
      "execution_count": 25,
      "outputs": [
        {
          "output_type": "stream",
          "name": "stdout",
          "text": [
            "(100, 200, 300)\n"
          ]
        }
      ]
    },
    {
      "cell_type": "code",
      "source": [
        "##Q12.  Write a code to access the second-to-last element of the tuple ('red', 'green', 'blue', 'yellow').\n",
        "tuple1 = ('red', 'green', 'blue', 'yellow')\n",
        "tuple1[-2]"
      ],
      "metadata": {
        "colab": {
          "base_uri": "https://localhost:8080/",
          "height": 36
        },
        "id": "LLQph57aO5Nm",
        "outputId": "13d30a3c-acac-4c01-d49c-975f515a2d7f"
      },
      "execution_count": 27,
      "outputs": [
        {
          "output_type": "execute_result",
          "data": {
            "text/plain": [
              "'blue'"
            ],
            "application/vnd.google.colaboratory.intrinsic+json": {
              "type": "string"
            }
          },
          "metadata": {},
          "execution_count": 27
        }
      ]
    },
    {
      "cell_type": "code",
      "source": [
        "##Q13.  Write a code to find the minimum number in the tuple (10, 20, 5, 15).\n",
        "tuple1 = (10, 20, 5, 15)\n",
        "min(tuple1)"
      ],
      "metadata": {
        "colab": {
          "base_uri": "https://localhost:8080/"
        },
        "id": "NwiK5dH9QKYv",
        "outputId": "06fb9270-53a0-4be9-f565-133b51cbf8d3"
      },
      "execution_count": 28,
      "outputs": [
        {
          "output_type": "execute_result",
          "data": {
            "text/plain": [
              "5"
            ]
          },
          "metadata": {},
          "execution_count": 28
        }
      ]
    },
    {
      "cell_type": "code",
      "source": [
        "##Q14. Write a code to find the index of the element \"cat\" in the tuple ('dog', 'cat', 'rabbit').\n",
        "tuple1 = ('dog', 'cat', 'rabbit')\n",
        "tuple1.index('cat')"
      ],
      "metadata": {
        "colab": {
          "base_uri": "https://localhost:8080/"
        },
        "id": "v_vdm5ptQe5h",
        "outputId": "91a7b85c-39a3-4e49-de1b-be66897c561a"
      },
      "execution_count": 29,
      "outputs": [
        {
          "output_type": "execute_result",
          "data": {
            "text/plain": [
              "1"
            ]
          },
          "metadata": {},
          "execution_count": 29
        }
      ]
    },
    {
      "cell_type": "code",
      "source": [
        "##Q15.  Write a code to create a tuple containing three different fruits and check if \"kiwi\" is in it.\n",
        "basket = ('Apple', 'Banana', 'Lichi')\n",
        "'kiwi' in basket"
      ],
      "metadata": {
        "colab": {
          "base_uri": "https://localhost:8080/"
        },
        "id": "BwhH4X2XQ46A",
        "outputId": "37d67c7a-89ce-4dbb-a803-6a906bf43c64"
      },
      "execution_count": 30,
      "outputs": [
        {
          "output_type": "execute_result",
          "data": {
            "text/plain": [
              "False"
            ]
          },
          "metadata": {},
          "execution_count": 30
        }
      ]
    },
    {
      "cell_type": "code",
      "source": [
        "##Q16.  Write a code to create a set with the elements 'a', 'b', 'c' and print it.\n",
        "a ='a', 'b', 'c'\n",
        "set1 = set(a)\n",
        "print(set1)"
      ],
      "metadata": {
        "colab": {
          "base_uri": "https://localhost:8080/"
        },
        "id": "5iuxrqZXRT_r",
        "outputId": "2ecf7d2b-f132-4c27-febe-f409b5c80439"
      },
      "execution_count": 31,
      "outputs": [
        {
          "output_type": "stream",
          "name": "stdout",
          "text": [
            "{'b', 'a', 'c'}\n"
          ]
        }
      ]
    },
    {
      "cell_type": "code",
      "source": [
        "##Q17.  Write a code to clear all elements from the set {1, 2, 3, 4, 5}.\n",
        "set1 = {1, 2, 3, 4, 5}\n",
        "set1.clear()\n",
        "print(set1)"
      ],
      "metadata": {
        "colab": {
          "base_uri": "https://localhost:8080/"
        },
        "id": "1m_shMcdR1yH",
        "outputId": "ec19a437-fcf4-47f1-997e-057f6971a138"
      },
      "execution_count": 33,
      "outputs": [
        {
          "output_type": "stream",
          "name": "stdout",
          "text": [
            "set()\n"
          ]
        }
      ]
    },
    {
      "cell_type": "code",
      "source": [
        "##Q18.  Write a code to remove the element 4 from the set {1, 2, 3, 4}.\n",
        "set1 = {1, 2, 3, 4}\n",
        "set1.remove(4)\n",
        "print(set1)"
      ],
      "metadata": {
        "colab": {
          "base_uri": "https://localhost:8080/"
        },
        "id": "H12jHagRSIFX",
        "outputId": "aac2a413-747a-4fe5-c897-ce2775113595"
      },
      "execution_count": 35,
      "outputs": [
        {
          "output_type": "stream",
          "name": "stdout",
          "text": [
            "{1, 2, 3}\n"
          ]
        }
      ]
    },
    {
      "cell_type": "code",
      "source": [
        "##Q19.  Write a code to find the union of two sets {1, 2, 3} and {3, 4, 5}.\n",
        "set1 = {1, 2, 3}\n",
        "set2 = {3, 4, 5}\n",
        "new_set = set1.union(set2)\n",
        "print(new_set)"
      ],
      "metadata": {
        "colab": {
          "base_uri": "https://localhost:8080/"
        },
        "id": "QBvNtXvdSW26",
        "outputId": "b4b063b4-39b0-4457-e39a-21674a5e8ec1"
      },
      "execution_count": 37,
      "outputs": [
        {
          "output_type": "stream",
          "name": "stdout",
          "text": [
            "{1, 2, 3, 4, 5}\n"
          ]
        }
      ]
    },
    {
      "cell_type": "code",
      "source": [
        "##Q20.  Write a code to find the intersection of two sets {1, 2, 3} and {2, 3, 4}.\n",
        "set1 = {1, 2, 3}\n",
        "set2 = {2, 3, 4}\n",
        "new_set = set1.intersection(set2)\n",
        "print(new_set)"
      ],
      "metadata": {
        "colab": {
          "base_uri": "https://localhost:8080/"
        },
        "id": "p9OMmxZPSvlw",
        "outputId": "2d391797-bb0e-44ac-cdcb-1125862fb6f8"
      },
      "execution_count": 38,
      "outputs": [
        {
          "output_type": "stream",
          "name": "stdout",
          "text": [
            "{2, 3}\n"
          ]
        }
      ]
    },
    {
      "cell_type": "code",
      "source": [
        "##Q21.  Write a code to create a dictionary with the keys \"name\", \"age\", and \"city\", and print it.\n",
        "dict1 = {\"name\" : \"babul\", \"age\" : 21, \"city\" : \"delhi\"}\n",
        "print(dict1)"
      ],
      "metadata": {
        "colab": {
          "base_uri": "https://localhost:8080/"
        },
        "id": "1FniRZ8kTFjE",
        "outputId": "808538fd-b5f2-4fb0-9ce0-8390088551ba"
      },
      "execution_count": 43,
      "outputs": [
        {
          "output_type": "stream",
          "name": "stdout",
          "text": [
            "{'name': 'babul', 'age': 21, 'city': 'delhi'}\n"
          ]
        }
      ]
    },
    {
      "cell_type": "code",
      "source": [
        "##Q22. Write a code to add a new key-value pair \"country\": \"USA\" to the dictionary {'name': 'John', 'age': 25}.\n",
        "dict1 = {'name': 'John', 'age': 25}\n",
        "dict1[\"country\"] = \"USA\"\n",
        "print(dict1)"
      ],
      "metadata": {
        "colab": {
          "base_uri": "https://localhost:8080/"
        },
        "id": "46HoBpOaVCSg",
        "outputId": "fefbfd98-5b4c-45ec-baca-67cdf4b39c57"
      },
      "execution_count": 44,
      "outputs": [
        {
          "output_type": "stream",
          "name": "stdout",
          "text": [
            "{'name': 'John', 'age': 25, 'country': 'USA'}\n"
          ]
        }
      ]
    },
    {
      "cell_type": "code",
      "source": [
        "##Q23. Write a code to access the value associated with the key \"name\" in the dictionary {'name': 'Alice', 'age': 30}.\n",
        "dict1 = {'name': 'Alice', 'age': 30}\n",
        "dict1[\"name\"]"
      ],
      "metadata": {
        "colab": {
          "base_uri": "https://localhost:8080/",
          "height": 36
        },
        "id": "wpGlA6MUVi4F",
        "outputId": "cbe33377-a44c-4dbd-b68c-7431a2798907"
      },
      "execution_count": 45,
      "outputs": [
        {
          "output_type": "execute_result",
          "data": {
            "text/plain": [
              "'Alice'"
            ],
            "application/vnd.google.colaboratory.intrinsic+json": {
              "type": "string"
            }
          },
          "metadata": {},
          "execution_count": 45
        }
      ]
    },
    {
      "cell_type": "code",
      "source": [
        "##Q24. Write a code to remove the key \"age\" from the dictionary {'name': 'Bob', 'age': 22, 'city': 'New York'}.\n",
        "dict1 = {'name': 'Bob', 'age': 22, 'city': 'New York'}\n",
        "del dict1[\"age\"]\n",
        "dict1"
      ],
      "metadata": {
        "colab": {
          "base_uri": "https://localhost:8080/"
        },
        "id": "9hMcBMtLV4tq",
        "outputId": "a89f7c3f-ff37-4719-bdc3-77a78fba8e5d"
      },
      "execution_count": 46,
      "outputs": [
        {
          "output_type": "execute_result",
          "data": {
            "text/plain": [
              "{'name': 'Bob', 'city': 'New York'}"
            ]
          },
          "metadata": {},
          "execution_count": 46
        }
      ]
    },
    {
      "cell_type": "code",
      "source": [
        "##Q25.  Write a code to check if the key \"city\" exists in the dictionary {'name': 'Alice', 'city': 'Paris'}.\n",
        "dict1 = {'name': 'Alice', 'city': 'Paris'}\n",
        "\"city\" in dict1"
      ],
      "metadata": {
        "colab": {
          "base_uri": "https://localhost:8080/"
        },
        "id": "Z71wpIP4WLXz",
        "outputId": "08887e88-164b-44bd-c74c-ff265af09c3a"
      },
      "execution_count": 48,
      "outputs": [
        {
          "output_type": "execute_result",
          "data": {
            "text/plain": [
              "True"
            ]
          },
          "metadata": {},
          "execution_count": 48
        }
      ]
    },
    {
      "cell_type": "code",
      "source": [
        "##Q26. Write a code to create a list, a tuple, and a dictionary, and print them all.\n",
        "a = 1, 2, 3, 4, 5\n",
        "tuple1 = tuple(a)\n",
        "list1 = list(a)\n",
        "dict1 = {\"name\":\"babul\" ,\"age\": 21}\n",
        "print(tuple1)\n",
        "print(list1)\n",
        "print(dict1)"
      ],
      "metadata": {
        "colab": {
          "base_uri": "https://localhost:8080/"
        },
        "id": "ooL9djeLWbfW",
        "outputId": "8a5e5cf7-521f-4518-9547-c9d53e5d388e"
      },
      "execution_count": 53,
      "outputs": [
        {
          "output_type": "stream",
          "name": "stdout",
          "text": [
            "(1, 2, 3, 4, 5)\n",
            "[1, 2, 3, 4, 5]\n",
            "{'name': 'babul', 'age': 21}\n"
          ]
        }
      ]
    },
    {
      "cell_type": "code",
      "source": [
        "##Q27. Write a code to create a list of 5 random numbers between 1 and 100, sort it in ascending order, and print the result.(replaced)\n",
        "import random\n",
        "list1 = list(random.randint(1,100) for _ in range(5))\n",
        "list1.sort()\n",
        "print(list1)\n"
      ],
      "metadata": {
        "colab": {
          "base_uri": "https://localhost:8080/"
        },
        "id": "p-x1SWCtXoR-",
        "outputId": "bc5578fd-8c5b-46d8-86c8-29940b7ca5d0"
      },
      "execution_count": 68,
      "outputs": [
        {
          "output_type": "stream",
          "name": "stdout",
          "text": [
            "[3, 8, 23, 58, 91]\n"
          ]
        }
      ]
    },
    {
      "cell_type": "code",
      "source": [
        "##Q28. Write a code to create a list with strings and print the element at the third index.\n",
        "a = \"apple\", \"babul\", \"game\", \"nitro\", \"pw\"\n",
        "list1 = list(a)\n",
        "print(list1)\n",
        "list1[2]"
      ],
      "metadata": {
        "colab": {
          "base_uri": "https://localhost:8080/",
          "height": 53
        },
        "id": "cVQIGUPkZd0V",
        "outputId": "6afd1649-90c9-47d3-8eec-f53dac84f647"
      },
      "execution_count": 65,
      "outputs": [
        {
          "output_type": "stream",
          "name": "stdout",
          "text": [
            "['apple', 'babul', 'game', 'nitro', 'pw']\n"
          ]
        },
        {
          "output_type": "execute_result",
          "data": {
            "text/plain": [
              "'game'"
            ],
            "application/vnd.google.colaboratory.intrinsic+json": {
              "type": "string"
            }
          },
          "metadata": {},
          "execution_count": 65
        }
      ]
    },
    {
      "cell_type": "code",
      "source": [
        "##Q29. Write a code to combine two dictionaries into one and print the result.\n",
        "dict1 = {\"a\" : 1, \"b\" : 2}\n",
        "dict2 = {\"c\" : 3, \"d\" : 4}\n",
        "dict1.update(dict2)\n",
        "print(dict1)"
      ],
      "metadata": {
        "colab": {
          "base_uri": "https://localhost:8080/"
        },
        "id": "pP11TxFGZ9wZ",
        "outputId": "cef6c993-db4a-438b-aa54-d197878a4f26"
      },
      "execution_count": 70,
      "outputs": [
        {
          "output_type": "stream",
          "name": "stdout",
          "text": [
            "{'a': 1, 'b': 2, 'c': 3, 'd': 4}\n"
          ]
        }
      ]
    },
    {
      "cell_type": "code",
      "source": [
        "##Q30. Write a code to convert a list of strings into a set.\n",
        "a = \"a\", \"b\", \"c\"\n",
        "list1 = list(a)\n",
        "set1 = set(list1)\n",
        "print (set1)"
      ],
      "metadata": {
        "colab": {
          "base_uri": "https://localhost:8080/"
        },
        "id": "pUkW9BfLbBSC",
        "outputId": "b01cd03c-4eff-4cfc-fad3-57692f265991"
      },
      "execution_count": 71,
      "outputs": [
        {
          "output_type": "stream",
          "name": "stdout",
          "text": [
            "{'b', 'a', 'c'}\n"
          ]
        }
      ]
    }
  ]
}